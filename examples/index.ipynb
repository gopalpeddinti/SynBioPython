{
 "cells": [
  {
   "cell_type": "markdown",
   "metadata": {},
   "source": [
    "# Example:\n",
    "\n",
    "### Click on the respective module below to open the jupyter notebook in an executable and interactive environment.\n",
    "\n",
    "- [codon usage module](https://mybinder.org/v2/gh/Global-Biofoundries-Alliance/SynBioPython/master?urlpath=git-pull%3Frepo%3Dhttps%253A%252F%252Fgithub.com%252FGlobal-Biofoundries-Alliance%252FSynBioPython%252Ftree%252Fmaster%252Fexamples%26urlpath%3Dtree%252Fexamples%252Fcodon.ipynb%26branch%3Dmaster)\n",
    "- [genbabel standard files module](https://mybinder.org/v2/gh/Global-Biofoundries-Alliance/SynBioPython/master?urlpath=git-pull%3Frepo%3Dhttps%253A%252F%252Fgithub.com%252FGlobal-Biofoundries-Alliance%252FSynBioPython%252Ftree%252Fmaster%252Fexamples%26urlpath%3Dtree%252Fexamples%252Fgenbabel.ipynb%26branch%3Dmaster) \n",
    "- [lab automation module](https://mybinder.org/v2/gh/Global-Biofoundries-Alliance/SynBioPython/master?urlpath=git-pull%3Frepo%3Dhttps%253A%252F%252Fgithub.com%252FGlobal-Biofoundries-Alliance%252FSynBioPython%252Ftree%252Fmaster%252Fexamples%26urlpath%3Dtree%252Fexamples%252Flab_automation.ipynb%26branch%3Dmaster) "
   ]
  },
  {
   "cell_type": "code",
   "execution_count": null,
   "metadata": {},
   "outputs": [],
   "source": []
  }
 ],
 "metadata": {
  "kernelspec": {
   "display_name": "Python 3",
   "language": "python",
   "name": "python3"
  },
  "language_info": {
   "codemirror_mode": {
    "name": "ipython",
    "version": 3
   },
   "file_extension": ".py",
   "mimetype": "text/x-python",
   "name": "python",
   "nbconvert_exporter": "python",
   "pygments_lexer": "ipython3",
   "version": "3.8.3"
  }
 },
 "nbformat": 4,
 "nbformat_minor": 2
}
