{
 "cells": [
  {
   "cell_type": "markdown",
   "metadata": {},
   "source": [
    "# SynBioPython codon usage module"
   ]
  },
  {
   "cell_type": "markdown",
   "metadata": {},
   "source": [
    "This notebook demonstrates the functionalities of the codon usage module of [SynBiopython](https://synbiopython.org)."
   ]
  },
  {
   "cell_type": "code",
   "execution_count": 2,
   "metadata": {},
   "outputs": [],
   "source": [
    "from collections import Counter\n",
    "\n",
    "from synbiopython import codon\n",
    "from synbiopython.codon import table, utils"
   ]
  },
  {
   "cell_type": "markdown",
   "metadata": {},
   "source": [
    "## Plates"
   ]
  },
  {
   "cell_type": "markdown",
   "metadata": {},
   "source": [
    "The codon module supports both organism names and taxonomy ids, and mapping between both identifiers:"
   ]
  },
  {
   "cell_type": "code",
   "execution_count": 3,
   "metadata": {},
   "outputs": [
    {
     "name": "stdout",
     "output_type": "stream",
     "text": [
      "Name: Saccharomyces cerevisiae\n",
      "Taxonomy id: 4932\n"
     ]
    }
   ],
   "source": [
    "name = codon.get_name(4932)\n",
    "tax_id = codon.get_tax_id(\"Saccharomyces cerevisiae\")\n",
    "\n",
    "print(\"Name:\", name)\n",
    "print(\"Taxonomy id:\", tax_id)"
   ]
  },
  {
   "cell_type": "markdown",
   "metadata": {},
   "source": [
    "Codon usage tables can be retrieved through either name or taxonomy id:"
   ]
  },
  {
   "cell_type": "code",
   "execution_count": 4,
   "metadata": {},
   "outputs": [],
   "source": [
    "name_table = table.get_table(name)\n",
    "tax_id_table = table.get_table(tax_id)"
   ]
  },
  {
   "cell_type": "markdown",
   "metadata": {},
   "source": [
    "These will be the same, irrespective of the method of retrieval:"
   ]
  },
  {
   "cell_type": "code",
   "execution_count": 5,
   "metadata": {},
   "outputs": [],
   "source": [
    "assert name_table == tax_id_table"
   ]
  },
  {
   "cell_type": "markdown",
   "metadata": {},
   "source": [
    "The table is a simple dictionary of amino acids to codons, which are themselves a codon to usage frequency dictionary:"
   ]
  },
  {
   "cell_type": "code",
   "execution_count": 6,
   "metadata": {},
   "outputs": [
    {
     "name": "stdout",
     "output_type": "stream",
     "text": [
      "{'CTC': 0.06, 'CTG': 0.11, 'CTT': 0.13, 'CTA': 0.14, 'TTA': 0.28, 'TTG': 0.29}\n"
     ]
    }
   ],
   "source": [
    "l_codons = name_table[\"L\"]\n",
    "print(l_codons)"
   ]
  },
  {
   "cell_type": "markdown",
   "metadata": {},
   "source": [
    "## Utility methods"
   ]
  },
  {
   "cell_type": "markdown",
   "metadata": {},
   "source": [
    "Utility methods are available for random sampling of codons, and for performing simple codon optimisations.\n",
    "\n",
    "Repeated sampling of lysine-encoding codons results in a comparable frequency between sampled codon usage and that expected from the supplied codon usage table:"
   ]
  },
  {
   "cell_type": "code",
   "execution_count": 7,
   "metadata": {},
   "outputs": [
    {
     "name": "stdout",
     "output_type": "stream",
     "text": [
      "TTA 0.2919 0.28\n",
      "TTG 0.2748 0.29\n",
      "CTT 0.1346 0.13\n",
      "CTA 0.1361 0.14\n",
      "CTC 0.0537 0.06\n",
      "CTG 0.1089 0.11\n"
     ]
    }
   ],
   "source": [
    "sampled = [utils.sample(name_table, \"L\") for _ in range(10000)]\n",
    "\n",
    "codons = Counter(sampled)\n",
    "\n",
    "for codon, count in codons.items():\n",
    "    print(codon, count / len(sampled), l_codons[codon])"
   ]
  },
  {
   "cell_type": "markdown",
   "metadata": {},
   "source": [
    "Based on this probabilistic sampling, a simple codon usage optimisation method is provided:"
   ]
  },
  {
   "cell_type": "code",
   "execution_count": 8,
   "metadata": {},
   "outputs": [
    {
     "name": "stdout",
     "output_type": "stream",
     "text": [
      "GCGTGTGACGAGTTCGGGCATATCAAACTAATGAACCCACAGAGGTCAACTGTTTGGTAT\n"
     ]
    }
   ],
   "source": [
    "aa_seq = 'ACDEFGHIKLMNPQRSTVWY'\n",
    "print(utils.optimise(name_table, aa_seq))"
   ]
  },
  {
   "cell_type": "code",
   "execution_count": null,
   "metadata": {},
   "outputs": [],
   "source": []
  }
 ],
 "metadata": {
  "kernelspec": {
   "display_name": "Python 3",
   "language": "python",
   "name": "python3"
  },
  "language_info": {
   "codemirror_mode": {
    "name": "ipython",
    "version": 3
   },
   "file_extension": ".py",
   "mimetype": "text/x-python",
   "name": "python",
   "nbconvert_exporter": "python",
   "pygments_lexer": "ipython3",
   "version": "3.8.3"
  }
 },
 "nbformat": 4,
 "nbformat_minor": 4
}
